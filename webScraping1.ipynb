{
  "nbformat": 4,
  "nbformat_minor": 0,
  "metadata": {
    "colab": {
      "provenance": []
    },
    "kernelspec": {
      "name": "python3",
      "display_name": "Python 3"
    },
    "language_info": {
      "name": "python"
    }
  },
  "cells": [
    {
      "cell_type": "code",
      "metadata": {
        "colab": {
          "base_uri": "https://localhost:8080/"
        },
        "id": "kYS7Mi9XSm2N",
        "outputId": "403b7caf-debb-432b-d033-0cf73f49be9e"
      },
      "source": [
        "from urllib.request import urlopen\n",
        "from bs4 import BeautifulSoup\n",
        "import ssl\n",
        "\n",
        "# Ignore SSL certificate errors\n",
        "ctx = ssl.create_default_context()\n",
        "ctx.check_hostname = False\n",
        "ctx.verify_mode = ssl.CERT_NONE\n",
        "\n",
        "url = input('Enter - ')\n",
        "html = urlopen(url, context=ctx).read()\n",
        "soup = BeautifulSoup(html, \"html.parser\")\n",
        "\n",
        "sum=0\n",
        "count=0\n",
        "tags = soup('span')\n",
        "for num in tags:\n",
        "  sum=sum+int(num.contents[0])\n",
        "\n",
        "print(sum)\n",
        "\n",
        "\n",
        "# Look at the parts of a tag\n",
        "# print('TAG:', tag)\n",
        "# print('URL:', tag.get('href', None))\n",
        "# print('Contents:', tag.contents[0])\n",
        "# print('Attrs:', tag.attrs)"
      ],
      "execution_count": null,
      "outputs": [
        {
          "output_type": "stream",
          "name": "stdout",
          "text": [
            "Enter - http://py4e-data.dr-chuck.net/comments_1398765.html\n",
            "2521\n"
          ]
        }
      ]
    },
    {
      "cell_type": "code",
      "metadata": {
        "colab": {
          "base_uri": "https://localhost:8080/"
        },
        "id": "LHZxBaaOcA_Q",
        "outputId": "1ce761e5-df82-40dd-e043-69feb54f85a0"
      },
      "source": [
        "import urllib\n",
        "from bs4 import BeautifulSoup\n",
        "\n",
        "#url = 'http://python-data.dr-chuck.net/known_by_Conar.html'\n",
        "url = input('Enter URL:')\n",
        "count = int(input('Enter count:'))\n",
        "position = int(input('Enter position:'))-1\n",
        "html = urlopen(url).read()\n",
        "\n",
        "soup = BeautifulSoup(html,\"html.parser\")\n",
        "href = soup('a')\n",
        "#print href\n",
        "\n",
        "for i in range(count):\n",
        "    link = href[position].get('href', None)\n",
        "    print (href[position].contents[0])\n",
        "    html = urlopen(link).read()\n",
        "    soup = BeautifulSoup(html,\"html.parser\")\n",
        "    href = soup('a')"
      ],
      "execution_count": null,
      "outputs": [
        {
          "output_type": "stream",
          "name": "stdout",
          "text": [
            "Enter URL:http://py4e-data.dr-chuck.net/known_by_Saphyre.html\n",
            "Enter count:7\n",
            "Enter position:18\n",
            "Likiesha\n",
            "Lavena\n",
            "Koden\n",
            "Khairah\n",
            "Aristomenis\n",
            "Zuzia\n",
            "Hong\n"
          ]
        }
      ]
    },
    {
      "cell_type": "code",
      "metadata": {
        "colab": {
          "base_uri": "https://localhost:8080/"
        },
        "id": "mDWywiqBI3tl",
        "outputId": "6b2d8601-f266-4a50-d790-2c5bda51a048"
      },
      "source": [
        "from urllib import request\n",
        "import xml.etree.ElementTree as ET\n",
        "\n",
        "url = 'http://py4e-data.dr-chuck.net/comments_1398767.xml'\n",
        "print (\"Retrieving\", url)\n",
        "html = request.urlopen(url)\n",
        "data = html.read()\n",
        "print(\"Retrieved\",len(data),\"characters\")\n",
        "\n",
        "tree = ET.fromstring(data)\n",
        "results = tree.findall('comments/comment')\n",
        "icount=len(results)\n",
        "isum=0\n",
        "\n",
        "for result in results:\n",
        "    isum += float(result.find('count').text)\n",
        "print(icount)\n",
        "print(isum)"
      ],
      "execution_count": null,
      "outputs": [
        {
          "output_type": "stream",
          "name": "stdout",
          "text": [
            "Retrieving http://py4e-data.dr-chuck.net/comments_1398767.xml\n",
            "Retrieved 4231 characters\n",
            "50\n",
            "2852.0\n"
          ]
        }
      ]
    },
    {
      "cell_type": "code",
      "metadata": {
        "colab": {
          "base_uri": "https://localhost:8080/"
        },
        "id": "QYGmFMkgvo_U",
        "outputId": "f80fd64b-0ea6-4aa1-bfbb-42a4223b3b10"
      },
      "source": [
        "from urllib import request\n",
        "import json\n",
        "\n",
        "url='http://py4e-data.dr-chuck.net/comments_1398768.json'\n",
        "html = request.urlopen(url)\n",
        "data =html.read()\n",
        "\n",
        "print(\"Retrieved\",len(data),\"characters\")\n",
        "\n",
        "info = json.loads(data)\n",
        "info = info['comments']\n",
        "\n",
        "isum=0\n",
        "for item in info:\n",
        "  isum += int(item['count'])\n",
        "\n",
        "print(isum)"
      ],
      "execution_count": null,
      "outputs": [
        {
          "output_type": "stream",
          "name": "stdout",
          "text": [
            "Retrieved 2729 characters\n",
            "2539\n"
          ]
        }
      ]
    }
  ]
}