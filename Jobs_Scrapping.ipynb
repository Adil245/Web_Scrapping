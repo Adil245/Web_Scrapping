{
 "cells": [
  {
   "cell_type": "code",
   "execution_count": 1,
   "id": "c0f8f563",
   "metadata": {},
   "outputs": [],
   "source": [
    "from bs4 import BeautifulSoup\n",
    "import requests"
   ]
  },
  {
   "cell_type": "code",
   "execution_count": 2,
   "id": "cb96e0ca",
   "metadata": {},
   "outputs": [],
   "source": [
    "url='https://www.timesjobs.com/candidate/job-search.html?searchType=personalizedSearch&from=submit&txtKeywords=Python&txtLocation='\n",
    "data  = requests.get(url).text"
   ]
  },
  {
   "cell_type": "code",
   "execution_count": 3,
   "id": "0548a756",
   "metadata": {},
   "outputs": [],
   "source": [
    "soup = BeautifulSoup(data)"
   ]
  },
  {
   "cell_type": "code",
   "execution_count": 4,
   "id": "3422988e",
   "metadata": {},
   "outputs": [
    {
     "name": "stdout",
     "output_type": "stream",
     "text": [
      "[<span class=\"srp-skills\">\n",
      "<strong class=\"blkclor\">python</strong>  ,  web technologies  ,  linux  ,  mobile  ,  mysql  ,  angularjs  ,  javascript\r\n",
      "        \r\n",
      "      </span>]\n"
     ]
    }
   ],
   "source": [
    "# to get a single Sub Element\n",
    "job=soup.find('li', class_='clearfix job-bx wht-shd-bx')\n",
    "skills=job.find_all('span', class_ = 'srp-skills')\n",
    "print(skills)"
   ]
  },
  {
   "cell_type": "code",
   "execution_count": 5,
   "id": "1702eac2",
   "metadata": {},
   "outputs": [],
   "source": [
    "jobs=soup.find_all('li', class_='clearfix job-bx wht-shd-bx')\n"
   ]
  },
  {
   "cell_type": "code",
   "execution_count": 6,
   "id": "d122cee5",
   "metadata": {},
   "outputs": [
    {
     "name": "stdout",
     "output_type": "stream",
     "text": [
      "['SuryaInformaticsSolutionsPvt.Ltd.', 'PureTechCodexPrivateLimited', '3RITechnologiesPvtLtd', 'EAGatewayServicesIndiaPvtLtd(MoreJobs)', 'GeminiSolutions', 'PerfiosSoftwareSolutionsPvt.Ltd.', 'CONNECTING2WORK', 'LAKSHHUMANRESOURCE', 'Dice.com', 'MerkleInc.', 'DealsCorner', 'SEVENCONSULTANCY', 'brickred(3pillarglobal)', 'qualitythought', 'DREAMAJAXTECHNOLOGIES', 'HanDigitalSolution(P)Ltd.', 'ariglobalsolutions', 'HARMANINTERNATIONAL', 'IvanInfotechPvt.Ltd.', 'AtoZInfowayLLP', 'AnlageInfotechIndiaPvtLtd(MoreJobs)', 'HRDEVIANDASSOCIATES', 'AnanthaCyberTechPvtLimited', 'Connecting2Work(MoreJobs)', 'Gibots']\n"
     ]
    }
   ],
   "source": [
    "company_name=[]\n",
    "for c in jobs:\n",
    "    company= c.find('h3',class_= 'joblist-comp-name').text.replace(' ','').replace('\\r','').replace('\\n','')\n",
    "    company_name.append(company)\n",
    "print(company_name)"
   ]
  },
  {
   "cell_type": "code",
   "execution_count": 7,
   "id": "427e4d4d",
   "metadata": {},
   "outputs": [
    {
     "name": "stdout",
     "output_type": "stream",
     "text": [
      "[['SuryaInformaticsSolutionsPvt.Ltd.', 'python,webtechnologies,linux,mobile,mysql,angularjs,javascript', 'Postedfewdaysago'], ['PureTechCodexPrivateLimited', 'rest,python,database,django,debugging,mongodb', 'Postedfewdaysago'], ['GeminiSolutions', 'python,mobile,svn,nosql,pythonscripting,git,api,sqldatabase', 'Postedfewdaysago'], ['CONNECTING2WORK', 'rest,python,django,mongodb', 'Postedfewdaysago'], ['LAKSHHUMANRESOURCE', 'rest,python,django,git', 'Postedfewdaysago'], ['SEVENCONSULTANCY', 'python,mvc,sql', 'Postedfewdaysago'], ['brickred(3pillarglobal)', 'softwareproducts,Python,DynamoDB', 'Postedfewdaysago'], ['HARMANINTERNATIONAL', 'python,os,linux,middleware', 'Postedfewdaysago'], ['IvanInfotechPvt.Ltd.', 'rest,python,security,debugging', 'Postedfewdaysago'], ['AtoZInfowayLLP', 'python,django,html5,javascript', 'Postedfewdaysago'], ['AnanthaCyberTechPvtLimited', 'python,c,c,informationtechnology', 'Postedfewdaysago'], ['Connecting2Work(MoreJobs)', 'PythonDeveloper,Django,flask,MySQL', 'Postedfewdaysago'], ['Gibots', 'python,elementsdeveloped,performanceapplications', 'Postedfewdaysago']]\n"
     ]
    }
   ],
   "source": [
    "#Seperating Desired data from ALL Python job Postings.\n",
    "recent_job_info=[]\n",
    "for p in jobs:\n",
    "    published =p.find('span', class_= 'sim-posted').span.text.replace(' ','')\n",
    "    if published =='Postedfewdaysago':\n",
    "        company= p.find('h3',class_= 'joblist-comp-name').text.replace(' ','').replace('\\r','').replace('\\n','')\n",
    "        skills=p.find('span', class_ = 'srp-skills').text.replace(' ','').strip()\n",
    "        recent_job_info.append([company,skills,published])\n",
    "print(recent_job_info)"
   ]
  },
  {
   "cell_type": "code",
   "execution_count": 9,
   "id": "49d78034",
   "metadata": {},
   "outputs": [
    {
     "name": "stdout",
     "output_type": "stream",
     "text": [
      "Enter Your personal Skill 1: os\n",
      "[['embeddedsystems,embeddedc,oscilloscope'], ['python,mobile,svn,nosql,pythonscripting,git,api,sqldatabase'], ['python,django,api,sql,nosql'], ['python,github,sql,nosql,django,api'], ['python,os,linux,middleware']]\n"
     ]
    }
   ],
   "source": [
    "# strip functions to pretiffy the data\n",
    "personal_skill= input('Enter Your personal Skill 1: ')\n",
    "sk=[]\n",
    "for s in jobs:\n",
    "    skills=s.find('span', class_ = 'srp-skills').text.replace(' ','').strip() #.replace('\\r','').replace('\\n','')\n",
    "    if personal_skill in skills:\n",
    "        sk.append([skills])\n",
    "print(sk)"
   ]
  },
  {
   "cell_type": "code",
   "execution_count": 22,
   "id": "a119be4d",
   "metadata": {},
   "outputs": [
    {
     "name": "stdout",
     "output_type": "stream",
     "text": [
      "https://www.timesjobs.com/job-detail/python-surya-informatics-solutions-pvt-ltd-chennai-0-to-3-yrs-jobid-UVlLes58wutzpSvf__PLUS__uAgZw==&source=srp\n",
      "https://www.timesjobs.com/job-detail/python-pure-tech-codex-private-limited-pune-2-to-3-yrs-jobid-OHwfF0d6EhNzpSvf__PLUS__uAgZw==&source=srp\n",
      "https://www.timesjobs.com/job-detail/python-3ri-technologies-pvt-ltd-pune-0-to-3-yrs-jobid-BPHzI7z6aKVzpSvf__PLUS__uAgZw==&source=srp\n",
      "https://www.timesjobs.com/job-detail/python-eagateway-services-india-pvt-ltd-bengaluru-bangalore-3-to-8-yrs-jobid-2Imi2htPAPZzpSvf__PLUS__uAgZw==&source=srp\n",
      "https://www.timesjobs.com/job-detail/qa-python-python-sdet-gemini-solutions-gurgaon-4-to-7-yrs-jobid-eGMLzwOk2QlzpSvf__PLUS__uAgZw==&source=srp\n",
      "https://www.timesjobs.com/job-detail/python-trainer-connecting-2-work-calicut-kozhikode-0-to-3-yrs-jobid-kXED__PLUS__hcGqIpzpSvf__PLUS__uAgZw==&source=srp\n",
      "https://www.timesjobs.com/job-detail/python-developer-laksh-human-resource-mumbai-1-to-3-yrs-jobid-Bo79FYBR7__SLASH__5zpSvf__PLUS__uAgZw==&source=srp\n",
      "https://www.timesjobs.com/job-detail/python-developer-dice-com-chennai-2-to-3-yrs-jobid-ywq3TKg9uRxzpSvf__PLUS__uAgZw==&source=srp\n",
      "https://www.timesjobs.com/job-detail/python-developer-merkle-inc-0-to-3-yrs-jobid-V__SLASH__wX1ty8ZiZzpSvf__PLUS__uAgZw==&source=srp\n",
      "https://www.timesjobs.com/job-detail/python-developer-seven-consultancy-navi-mumbai-mumbai-4-to-7-yrs-jobid-PGeUDPey4RhzpSvf__PLUS__uAgZw==&source=srp\n",
      "https://www.timesjobs.com/job-detail/python-developer-brickred-3pillar-global-4-to-7-yrs-jobid-nMblzVXwXThzpSvf__PLUS__uAgZw==&source=srp\n",
      "https://www.timesjobs.com/job-detail/python-django-quality-thought-hyderabad-secunderabad-2-to-5-yrs-jobid-A0WJWgCiZSRzpSvf__PLUS__uAgZw==&source=srp\n",
      "https://www.timesjobs.com/job-detail/python-developer-dreamajax-technologies-bengaluru-bangalore-4-to-7-yrs-jobid-EWIVCDzRLKBzpSvf__PLUS__uAgZw==&source=srp\n",
      "https://www.timesjobs.com/job-detail/python-developer-han-digital-solution-p-ltd-bengaluru-bangalore-3-to-6-yrs-jobid-6h0J3t2ep__PLUS__lzpSvf__PLUS__uAgZw==&source=srp\n",
      "https://www.timesjobs.com/job-detail/python-developer-ari-global-solutions-chennai-3-to-5-yrs-jobid-vSSKqKAWfdBzpSvf__PLUS__uAgZw==&source=srp\n",
      "https://www.timesjobs.com/job-detail/python-automation-harman-international-bengaluru-bangalore-3-to-5-yrs-jobid-HRyxmDQZxsRzpSvf__PLUS__uAgZw==&source=srp\n",
      "https://www.timesjobs.com/job-detail/python-developer-ivan-infotech-pvt-ltd-kolkata-2-to-5-yrs-jobid-1h6sLaqbaBZzpSvf__PLUS__uAgZw==&source=srp\n",
      "https://www.timesjobs.com/job-detail/python-developer-atoz-infoway-llp-surat-2-to-5-yrs-jobid-bqowTHtXWfhzpSvf__PLUS__uAgZw==&source=srp\n",
      "https://www.timesjobs.com/job-detail/python-aws-consulting-firm-bengaluru-bangalore-chennai-gurgaon-hyderabad-secunderabad-mumbai-2-to-6-yrs-jobid-oV6VSfpajkVzpSvf__PLUS__uAgZw==&source=srp\n",
      "https://www.timesjobs.com/job-detail/python-developer-hr-devi-and-associates-gurgaon-5-to-8-yrs-jobid-Jzutjd__PLUS__ciHlzpSvf__PLUS__uAgZw==&source=srp\n",
      "https://www.timesjobs.com/job-detail/python-developer-connecting-2-work-hr-solutions-thiruvananthapuram-2-to-5-yrs-jobid-eq54xUN3MRtzpSvf__PLUS__uAgZw==&source=srp\n",
      "https://www.timesjobs.com/job-detail/python-developer-anantha-cyber-tech-pvt-limited-hyderabad-secunderabad-3-to-6-yrs-jobid-QF9wZ4AGuzlzpSvf__PLUS__uAgZw==&source=srp\n",
      "https://www.timesjobs.com/job-detail/python-developer-gibots-pune-1-to-2-yrs-jobid-3x1kaokioYFzpSvf__PLUS__uAgZw==&source=srp\n",
      "https://www.timesjobs.com/job-detail/python-developer-hyrefox-consultants-noida-greater-noida-2-to-4-yrs-jobid-GZLV__PLUS__JjrtXdzpSvf__PLUS__uAgZw==&source=srp\n",
      "https://www.timesjobs.com/job-detail/python-developer-tanda-hr-solutions-mohali-3-to-5-yrs-jobid-GTT0grHZP1tzpSvf__PLUS__uAgZw==&source=srp\n"
     ]
    }
   ],
   "source": [
    "for l in jobs:\n",
    "    print(l.header.h2.a['href'])"
   ]
  },
  {
   "cell_type": "code",
   "execution_count": null,
   "id": "358a91cc",
   "metadata": {},
   "outputs": [],
   "source": []
  }
 ],
 "metadata": {
  "kernelspec": {
   "display_name": "Python 3 (ipykernel)",
   "language": "python",
   "name": "python3"
  },
  "language_info": {
   "codemirror_mode": {
    "name": "ipython",
    "version": 3
   },
   "file_extension": ".py",
   "mimetype": "text/x-python",
   "name": "python",
   "nbconvert_exporter": "python",
   "pygments_lexer": "ipython3",
   "version": "3.9.7"
  }
 },
 "nbformat": 4,
 "nbformat_minor": 5
}
